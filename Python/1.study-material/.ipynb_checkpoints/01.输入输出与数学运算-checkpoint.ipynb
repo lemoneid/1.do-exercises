{
 "cells": [
  {
   "cell_type": "markdown",
   "metadata": {},
   "source": [
    "# Python 第一课 By 海贼"
   ]
  },
  {
   "cell_type": "markdown",
   "metadata": {},
   "source": [
    "## 1、输入和输出\n",
    "\n",
    "下面我们先从一个最简单的程序开始，认识 **Python** 语言，经典的 *hello world* 程序就不带大家看了，今天来看看这个 *hello haizei*"
   ]
  },
  {
   "cell_type": "code",
   "execution_count": 7,
   "metadata": {},
   "outputs": [
    {
     "name": "stdout",
     "output_type": "stream",
     "text": [
      "hello haizei hello world\n"
     ]
    }
   ],
   "source": [
    "#example 1.1.1\n",
    "print \"hello haizei\",\n",
    "print \"hello world\""
   ]
  },
  {
   "cell_type": "markdown",
   "metadata": {},
   "source": [
    "正如大家看到的，**Python** 的输出就是这样的简洁。  \n",
    "接下来再带大家看一个 **Python** 读入的例子："
   ]
  },
  {
   "cell_type": "code",
   "execution_count": 12,
   "metadata": {},
   "outputs": [
    {
     "name": "stdout",
     "output_type": "stream",
     "text": [
      "please input :hellow\n",
      "a = hellow\n",
      "please input integer123\n",
      "127\n"
     ]
    }
   ],
   "source": [
    "#example 1.1.2\n",
    "a = raw_input(\"please input :\")\n",
    "print \"a =\",a\n",
    "b = int(raw_input(\"please input integer\"))\n",
    "print b + 4"
   ]
  },
  {
   "cell_type": "markdown",
   "metadata": {},
   "source": [
    "*raw_input* 是 **Python** 中用来读入的方法，每次读入一行字符串，方法中可以传入一个字符串，代表用户输入时的提示信息\n",
    "\n",
    "接下来演示的东西，设计到后面学习 **Python** 中相关的只是，看不懂的小伙伴，也不要太纠结下面一段代码演示的是同一行读入两个数字："
   ]
  },
  {
   "cell_type": "code",
   "execution_count": null,
   "metadata": {},
   "outputs": [],
   "source": [
    "# example 1.1.3\n",
    "a, b = [int(x) for x in raw_input(\"input tow num : \").split()]\n",
    "a, b = [int(x) for x in raw_input(\"input two num : \").split()]\n",
    "print \"%d + %d =\" % (a, b), a + b\n",
    "a, b = [int(x) for x in raw_input(\"input two num : \").split()]\n",
    "print \"%d + %d =\" % (a, b), a + b"
   ]
  },
  {
   "cell_type": "markdown",
   "metadata": {},
   "source": [
    "## 2.数学运算\n",
    "\n",
    "四则混合运算是人类使用程序语言最基本的需求(没有之一)，接下来就让我们一起来看看 **Python** 中的四则混合运算"
   ]
  },
  {
   "cell_type": "code",
   "execution_count": 15,
   "metadata": {},
   "outputs": [
    {
     "name": "stdout",
     "output_type": "stream",
     "text": [
      "10 + 4 = 14\n",
      "10 * 4 = 40\n",
      "10 / 4 = 2\n",
      "10 // 4 = 2\n",
      "10 *1.0 / 4 = 2.5\n",
      "10 *1.0 // 4 = 2\n",
      "4 ^ 3 = 64\n"
     ]
    }
   ],
   "source": [
    "#example 1.2.1\n",
    "a=10\n",
    "b=4\n",
    "print \"%d + %d =\" % (a, b), a + b\n",
    "print \"%d * %d =\" % (a, b), a * b\n",
    "print \"%d / %d =\" % (a, b), a / b\n",
    "print \"%d // %d =\" % (a, b), a // b # // 严格整除\n",
    "print \"%d *1.0 / %d =\" % (a, b), a * 1.0 / b\n",
    "print \"%d *1.0 // %d =\" % (a, b), a // b\n",
    "print \"%d ^ 3 =\" % (b), b ** 3  #// ** 乘方"
   ]
  },
  {
   "cell_type": "markdown",
   "metadata": {},
   "source": [
    "上面演示了最基本的四则运算，那么在 **Python** 中如何从 *stdin* 读入数字呢，请看下面的例子:"
   ]
  },
  {
   "cell_type": "code",
   "execution_count": 7,
   "metadata": {},
   "outputs": [
    {
     "name": "stdout",
     "output_type": "stream",
     "text": [
      "input a : 1\n",
      "input b : 2\n",
      "1 + 2 = 3\n",
      "input float a : 3.4\n",
      "input float b : 4.4\n",
      "3.400000 + 4.400000 = 7.8\n"
     ]
    }
   ],
   "source": [
    "#example 1.2.2\n",
    "a = int(raw_input(\"input a : \")) //int, float是类,相当于调用构造函数\n",
    "b = int(raw_input(\"input b : \"))\n",
    "print \"%d + %d =\" % (a, b), a + b\n",
    "a = float(raw_input(\"input float a : \"))\n",
    "b = float(raw_input(\"input float b : \"))\n",
    "print \"%f + %f =\" % (a, b), a + b"
   ]
  },
  {
   "cell_type": "markdown",
   "metadata": {},
   "source": [
    "除了以上基本的数学运算外，**Python** 在数学运算方面，最迷人的应该就是天生支持大整数运算的特性。\n",
    "\n",
    "下面这段代码中用到了 **Python** 中的 for 语句，语法比较简单，小伙伴们别害怕，  \n",
    "看一看 **Python** 是如何计算 $100!$ 的："
   ]
  },
  {
   "cell_type": "code",
   "execution_count": 19,
   "metadata": {},
   "outputs": [
    {
     "name": "stdout",
     "output_type": "stream",
     "text": [
      " 1  2  3  4  5  6  7  8  9  10  11  12  13  14  15  16  17  18  19  20  21  22  23  24  25  26  27  28  29  30  31  32  33  34  35  36  37  38  39  40  41  42  43  44  45  46  47  48  49  50  51  52  53  54  55  56  57  58  59  60  61  62  63  64  65  66  67  68  69  70  71  72  73  74  75  76  77  78  79  80  81  82  83  84  85  86  87  88  89  90  91  92  93  94  95  96  97  98  99\n",
      "933262154439441526816992388562667004907159682643816214685929638952175999932299156089414639761565182862536979208272237582511852109168640000000000000000000000\n"
     ]
    }
   ],
   "source": [
    "#example 1.2.3\n",
    "result = 1\n",
    "for i in range(1,100): #range区间左闭右开\n",
    "    result *= i\n",
    "    print \" %d\" %i,\n",
    "print\n",
    "print result"
   ]
  },
  {
   "cell_type": "markdown",
   "metadata": {},
   "source": [
    "最后来让我们看一下 **Python** 中比较特殊的字符串类的数学运算"
   ]
  },
  {
   "cell_type": "code",
   "execution_count": 12,
   "metadata": {},
   "outputs": [
    {
     "name": "stdout",
     "output_type": "stream",
     "text": [
      "hello world\n",
      "hello hello world\n"
     ]
    }
   ],
   "source": [
    "#example 1.2.4\n",
    "a = \"hello \"\n",
    "b = \"world\"\n",
    "print a + b\n",
    "print a * 2 + b"
   ]
  },
  {
   "cell_type": "markdown",
   "metadata": {},
   "source": [
    "## 3.Python 中的注释\n",
    "\n",
    "**Python** 中的注释分成两种，一种是单行注释（用1个 sharp(#)），一种是多行注释（用3个单引号（'））"
   ]
  },
  {
   "cell_type": "code",
   "execution_count": 21,
   "metadata": {},
   "outputs": [
    {
     "name": "stdout",
     "output_type": "stream",
     "text": [
      " \n",
      "这是一个多行注释，注释掉这种种的全部内容\n",
      "print \"hello world\" # 这行代码不会有效果\n",
      "\n",
      "hello haizei\n"
     ]
    }
   ],
   "source": [
    "#example 1.3.1\n",
    "#这是一个单行注释，注释掉其后米娜所有内容\n",
    "#本质是多行字符串\n",
    "a = ''' \n",
    "这是一个多行注释，注释掉这种种的全部内容\n",
    "print \"hello world\" # 这行代码不会有效果\n",
    "'''\n",
    "print a\n",
    "print \"hello haizei\" #这行代码会有输出"
   ]
  },
  {
   "cell_type": "markdown",
   "metadata": {},
   "source": [
    "## 4.课后作业\n",
    "\n",
    "1.参考 example 1.1.3 实现程序：输入n个数字，输出n个数字和<br/>\n",
    "2.参考 example 1.2.3 求100！各位相加之和"
   ]
  },
  {
   "cell_type": "markdown",
   "metadata": {},
   "source": [
    "### 4.1作业提交"
   ]
  },
  {
   "cell_type": "code",
   "execution_count": 1,
   "metadata": {},
   "outputs": [
    {
     "name": "stdout",
     "output_type": "stream",
     "text": [
      "3\n",
      "123\n",
      "12\n",
      "32\n",
      "167\n"
     ]
    }
   ],
   "source": [
    "res = 0\n",
    "for x in range(0, int(raw_input())) : res += int(raw_input())\n",
    "print res"
   ]
  },
  {
   "cell_type": "markdown",
   "metadata": {},
   "source": [
    "### 4.2作业提交"
   ]
  },
  {
   "cell_type": "code",
   "execution_count": 2,
   "metadata": {},
   "outputs": [
    {
     "name": "stdout",
     "output_type": "stream",
     "text": [
      "933262154439441526816992388562667004907159682643816214685929638952175999932299156089414639761565182862536979208272237582511852109168640000000000000000000000\n"
     ]
    }
   ],
   "source": [
    "res = 0\n",
    "tot = 1\n",
    "for i in range(1, 101): tot *= i \n",
    "for num in str([]) : res += int(num)\n",
    "print res"
   ]
  }
 ],
 "metadata": {
  "kernelspec": {
   "display_name": "Python 2",
   "language": "python",
   "name": "python2"
  },
  "language_info": {
   "codemirror_mode": {
    "name": "ipython",
    "version": 2
   },
   "file_extension": ".py",
   "mimetype": "text/x-python",
   "name": "python",
   "nbconvert_exporter": "python",
   "pygments_lexer": "ipython2",
   "version": "2.7.18"
  }
 },
 "nbformat": 4,
 "nbformat_minor": 2
}
