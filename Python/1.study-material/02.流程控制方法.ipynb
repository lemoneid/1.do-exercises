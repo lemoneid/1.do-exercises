{
 "cells": [
  {
   "cell_type": "markdown",
   "metadata": {},
   "source": [
    "# python 第二课 By 海贼"
   ]
  },
  {
   "cell_type": "markdown",
   "metadata": {},
   "source": [
    "## 1、分支控制"
   ]
  },
  {
   "cell_type": "markdown",
   "metadata": {},
   "source": [
    "在人类最基本的控制逻辑中，根据现有条件决定下一步的事情是基本的逻辑之一，我们管这种逻辑叫做 `分支控制`。在 C/C++ 中，我们学过 $if、 else、 $，在 **Python** 也是一样的，下面就让我们来看看 **Python** 中的 `分支控制` 语句。  \n",
    "\n",
    "从这一课开始，我们将正式接触 **Python** 中代码块的概念，不同于 C/C++ 中用 $\\{\\}$ 标记代码块，**Python** 中是用缩进来控制代码块的，连续的相同缩进语句，将组成一个代码块，不理解，不用怕，一起跟船长来看看吧。"
   ]
  },
  {
   "cell_type": "code",
   "execution_count": null,
   "metadata": {},
   "outputs": [],
   "source": [
    "# example 2.1.1\n",
    "\n",
    "# 定义一个比较函数\n",
    "# 函数内容后面会具体讲到\n",
    "def cmp(a, b):\n",
    "    print \"cmp(%d, %d)\" % (a, b)\n",
    "    if a == b:\n",
    "        print \"\\ta == b is true\"\n",
    "        print \"\\ta == b == %d\" % (a)\n",
    "    elif abs(a - b) == 1:\n",
    "        print \"\\ta == b is false\"\n",
    "        print \"\\ta == %d, b == %d\" % (a, b)\n",
    "    else:\n",
    "        print \"\\ta == b is false\"\n",
    "        print \"\\t|a - b| >= 2\"\n",
    "\n",
    "cmp(1, 1) # 测试 if 分支\n",
    "cmp(1, 2) # 测试 elif 分支\n",
    "cmp(1, 3) # 测试 else 分支"
   ]
  },
  {
   "cell_type": "markdown",
   "metadata": {},
   "source": [
    "---\n",
    "## 2、循环控制"
   ]
  },
  {
   "cell_type": "markdown",
   "metadata": {},
   "source": [
    "上面看完 `分支控制` 之后，下面让我们来看看 `循环控制`，当我们需要将同样的流程执行多次的时候，这个时候就需要 `循环` 出马了。  \n",
    "下面在介绍循环的过程中，会引入两个重要的 **Python** 功能函数： $range(), xrange()$\n",
    "1. `range(a, b)` 生成一个包含 \\[a, b) 区间中所有元素的列表（暂时可以理解为数组）\n",
    "2. `xrange(a, b)` 生成一个用于生成 \\[a, b) 区间中所有元素的迭代器（暂时理解为【高效的 range 函数】）"
   ]
  },
  {
   "cell_type": "code",
   "execution_count": null,
   "metadata": {},
   "outputs": [],
   "source": [
    "# example 2.2.1\n",
    "# 利用 range 从 1 到 4(5 - 1)  循环\n",
    "for i in range(1, 5):\n",
    "    print i,\n",
    "    continue\n",
    "else :\n",
    "    print \" this is end\"\n",
    "\n",
    "# 利用 xrange 从 1 到 4(5 - 1) 循环\n",
    "for i in xrange(1, 5):\n",
    "    print i,\n",
    "    if i == 3:\n",
    "        break\n",
    "else :\n",
    "    print \" this is end\""
   ]
  },
  {
   "cell_type": "markdown",
   "metadata": {},
   "source": [
    "以上演示了 `for` 循环的相关功能，下面来让我们看看 `while` 循环的功能。当然，`while` 里面使用 ***break*** 或者 ***continue*** 和 `for` 里面的效果是一样的，这个就不带大家具体看了，小伙伴们线下自己试验吧。"
   ]
  },
  {
   "cell_type": "code",
   "execution_count": null,
   "metadata": {},
   "outputs": [],
   "source": [
    "# example 2.2.2\n",
    "i = 10\n",
    "while i:\n",
    "    print \"%d\" % (i % 2),\n",
    "    i /= 2\n",
    "else :\n",
    "    print \"| finally : i = %d\" % i"
   ]
  },
  {
   "cell_type": "markdown",
   "metadata": {},
   "source": [
    "---\n",
    "## 3、课后作业"
   ]
  },
  {
   "cell_type": "markdown",
   "metadata": {},
   "source": [
    "1. 补充代码，实现功能，输出 list_a 中第一个偶数，如果 list_a 中没有偶数，打印一行字符串 \"there is no even number\"\n",
    "2. 实现循环读入，当读入0的时候，程序退出，并输出一行字符串 \"bye bye\"，否则判断输入的数字是否为素数"
   ]
  },
  {
   "cell_type": "markdown",
   "metadata": {},
   "source": [
    "### 3.1 代码"
   ]
  },
  {
   "cell_type": "code",
   "execution_count": null,
   "metadata": {},
   "outputs": [],
   "source": [
    "import random\n",
    "list_a = [random.randint(1, 100) for x in xrange(1, 10)]\n",
    "for number in list_a:\n",
    "    print number,\n",
    "print \n",
    "for number in list_a:\n",
    "    pass # 请将完善这部分的代码\n",
    "    if number % 2 == 0 :\n",
    "        print number\n",
    "        break\n",
    "else :\n",
    "    print \"there is no even number\""
   ]
  },
  {
   "cell_type": "markdown",
   "metadata": {},
   "source": [
    "### 3.2 代码"
   ]
  },
  {
   "cell_type": "code",
   "execution_count": 6,
   "metadata": {},
   "outputs": [
    {
     "name": "stdout",
     "output_type": "stream",
     "text": [
      "1\n",
      "True\n",
      "2\n",
      "True\n",
      "0\n",
      "bye bye\n"
     ]
    }
   ],
   "source": [
    "def is_prime(x):\n",
    "    if type(x) != type(1):\n",
    "        return False\n",
    "    for i in xrange(2, x):\n",
    "        if x % i == 0:\n",
    "            break\n",
    "    else :\n",
    "        return True\n",
    "    return False\n",
    "\n",
    "# 请在下面完善题目中的代码功能a\n",
    "x = int(raw_input())\n",
    "while x:\n",
    "    print \"%s\" %is_prime(int(x))\n",
    "    x = int(raw_input())\n",
    "else :\n",
    "    print \"bye bye\""
   ]
  },
  {
   "cell_type": "code",
   "execution_count": null,
   "metadata": {},
   "outputs": [],
   "source": []
  }
 ],
 "metadata": {
  "kernelspec": {
   "display_name": "Python 2",
   "language": "python",
   "name": "python2"
  },
  "language_info": {
   "codemirror_mode": {
    "name": "ipython",
    "version": 2
   },
   "file_extension": ".py",
   "mimetype": "text/x-python",
   "name": "python",
   "nbconvert_exporter": "python",
   "pygments_lexer": "ipython2",
   "version": "2.7.18"
  }
 },
 "nbformat": 4,
 "nbformat_minor": 2
}
