{
 "cells": [
  {
   "cell_type": "markdown",
   "metadata": {},
   "source": [
    "# python 第四课 By 海贼"
   ]
  },
  {
   "cell_type": "markdown",
   "metadata": {},
   "source": [
    "## 1、函数"
   ]
  },
  {
   "cell_type": "markdown",
   "metadata": {},
   "source": [
    "### 1.1 定义与使用"
   ]
  },
  {
   "cell_type": "markdown",
   "metadata": {},
   "source": [
    "一直以来，海贼编程学习的核心都是放在对于 ***`四种编程范式`*** 的学习上。再让我们来强化一下记忆：\n",
    "1. 面向过程\n",
    "2. 面向对象\n",
    "3. 泛型编程\n",
    "4. 函数式编程\n",
    "5. 可微分编程（待定...）\n",
    "\n",
    "**『面向过程』**的编程范式中核心部分就是如何将功能进行拆分，从而达到功能之间的复用，以此来降低编码量，提升开发效率，减少 BUG 产生的概率。\n",
    "\n",
    "有了 ***【海贼C/C++】*** 基础，上手 **Python** 并不困难，**Python** 中的函数定义与使用方式也很自然\n"
   ]
  },
  {
   "cell_type": "code",
   "execution_count": 5,
   "metadata": {},
   "outputs": [],
   "source": [
    "#example 4.1.1\n",
    "def is_prime(x):\n",
    "    pass"
   ]
  },
  {
   "cell_type": "markdown",
   "metadata": {},
   "source": [
    "如上所示，我们定义了一个 **is_prime(x)** 函数，包含一个传入参数 **x**，用来判断一个数字是否是素数  \n",
    "下面来看一段完整的定义与使用的代码吧"
   ]
  },
  {
   "cell_type": "code",
   "execution_count": 6,
   "metadata": {},
   "outputs": [
    {
     "name": "stdout",
     "output_type": "stream",
     "text": [
      "is_prime(71) = True\n",
      "is_prime(89) = True\n",
      "is_prime(66) = False\n",
      "is_prime(-6) = False\n",
      "is_prime(71) = True\n",
      "is_prime(78) = False\n",
      "is_prime(18) = False\n",
      "is_prime(63) = False\n",
      "is_prime(83) = True\n",
      "is_prime(78) = False\n"
     ]
    }
   ],
   "source": [
    "b#example 4.1.2\n",
    "def is_prime(x):\n",
    "    if x <= 1:\n",
    "        return False\n",
    "    for i in xrange(2, x):\n",
    "        if x % i == 0:\n",
    "            return False\n",
    "        if i * i > x:\n",
    "            break\n",
    "    return True\n",
    "\n",
    "from random import randint\n",
    "\n",
    "test_num = [randint(-20, 100) for i in xrange(0, 10)]\n",
    "for num in test_num:\n",
    "    print \"is_prime(%d) = %s\" % (num, is_prime(num))"
   ]
  },
  {
   "cell_type": "markdown",
   "metadata": {},
   "source": [
    "---\n",
    "**Python** 的函数调用过程非常灵活，这种灵活给工程开发带来极大的方便。 \n",
    "\n",
    "想要掌握这种特性，就必须掌握 **Python** 函数参数相关的三个重要概念：\n",
    "1. 位置参数：使用参数的传入的位置，获取参数值\n",
    "2. 关键字参数：通过参数传入的关键字名称，获取参数值【这里是重点，**Python** 独有】\n",
    "3. 默认参数：提供传入参数的默认值"
   ]
  },
  {
   "cell_type": "code",
   "execution_count": 9,
   "metadata": {},
   "outputs": [
    {
     "name": "stdout",
     "output_type": "stream",
     "text": [
      "\n",
      "全部使用默认参数\n",
      "HCZ is 20 year old, and 0.0 m\n",
      "Args : ()\n",
      "Keyword Args : {}\n",
      "\n",
      "age 使用默认参数\n",
      "hello kitty is 12 year old, and 12.3 m\n",
      "Args : ()\n",
      "Keyword Args : {}\n",
      "\n",
      "前三个参数，正常赋值给前三个变量，最后两个参数，以【元组】的形式赋值给位置参数 args\n",
      "haizeix is 1 year old, and 55 m\n",
      "Args : (44, 'hello world', 's1', 's2')\n",
      "Keyword Args : {}\n",
      "\n",
      "最后几个以字典的形式赋值给关键字参数\n",
      "haizeix is 1 year old, and 55 m\n",
      "Args : (44, 'hello world')\n",
      "Keyword Args : {'default_value': 123, 'value2': 'important'}\n"
     ]
    }
   ],
   "source": [
    "#example 4.1.3\n",
    "# *args位置参数\n",
    "# **kwargs关键字参数\n",
    "\n",
    "def People(name = \"HCZ\", age = 20, height = 0.0, *args, **kwargs):\n",
    "    print \"%s is %d year old, and %s m\" % (name, age, height)\n",
    "    print \"Args : %s\" % str(args)\n",
    "    print \"Keyword Args : %s\" % str(kwargs)\n",
    "    \n",
    "\n",
    "def People2(*args):\n",
    "    print args\n",
    "    \n",
    "print \"\\n全部使用默认参数\"\n",
    "People()\n",
    "print \"\\nage 使用默认参数\"\n",
    "People(age = 12, name = \"hello kitty\", height = 12.3) \n",
    "\n",
    "print \"\\n前三个参数，正常赋值给前三个变量，最后两个参数，以【元组】的形式赋值给位置参数 args\"\n",
    "People(\"haizeix\", 1, 55, 44, \"hello world\", \"s1\", \"s2\")\n",
    "\n",
    "\n",
    "print \"\\n最后几个以字典的形式赋值给关键字参数\"\n",
    "#允许穿任意参数\n",
    "People(\"haizeix\", 1, 55, 44, \"hello world\", default_value = 123, value2 = \"important\")\n"
   ]
  },
  {
   "cell_type": "markdown",
   "metadata": {},
   "source": [
    "---\n",
    "### 1.2 闭包"
   ]
  },
  {
   "cell_type": "markdown",
   "metadata": {},
   "source": [
    "**闭包** 是 ***函数式编程*** 中的重要概念，定义为 ***『由函数（环境）及其封闭的自由变量组成的集合体』***，参考之前大家接触到的概念，再重新阅读这个准确的定义，是不是会有新的感受呢？  \n",
    "\n",
    "日后大家将要接触到的所有大类别语言中，函数式编程思想最明显的要数 **JavaScript** 了，一门被广泛应用于 **Web** 开发的语言。深入理解闭包的概念，对于大家日后拓展自学这门 **Web** 开发语言会有极大的助益。  \n",
    "\n",
    "下面这个 **Python** 中的闭包，与大家之前认识的 ***『C++11 中的闭包』*** 表现形式完全一样"
   ]
  },
  {
   "cell_type": "code",
   "execution_count": 55,
   "metadata": {},
   "outputs": [
    {
     "name": "stdout",
     "output_type": "stream",
     "text": [
      "is_lower('a') = True\n",
      "is_upper('a') = False\n",
      "is_digit('0') = True\n"
     ]
    }
   ],
   "source": [
    "#example 4.1.4\n",
    "\n",
    "def in_range(x, y):\n",
    "    def judge(z):\n",
    "        return z >= x and z <= y;\n",
    "    return judge\n",
    "\n",
    "is_lower = in_range(97, 122)\n",
    "is_upper = in_range(65, 90)\n",
    "is_digit = in_range(48, 57)\n",
    "\n",
    "print \"is_lower('a') = %s\" % is_lower(ord('a'))\n",
    "print \"is_upper('a') = %s\" % is_upper(ord('a'))\n",
    "print \"is_digit('0') = %s\" % is_digit(ord('0'))"
   ]
  },
  {
   "cell_type": "markdown",
   "metadata": {},
   "source": [
    "---\n",
    "函数在 ***函数式编程*** 中既然是 ** `一等公民` ** 的话，就可以像参数一样传来传去 **Python** 中支持 ***函数式编程*** 的语言特性同样也支持了这一特性，下面看一个小例子："
   ]
  },
  {
   "cell_type": "code",
   "execution_count": 5,
   "metadata": {},
   "outputs": [
    {
     "name": "stdout",
     "output_type": "stream",
     "text": [
      "I am Add 1 + 2 = 3\n",
      "I am Add 1 - 2 = -1\n",
      "I am Multiply 1 * 2 = 2\n"
     ]
    },
    {
     "ename": "TypeError",
     "evalue": "other() takes no arguments (2 given)",
     "output_type": "error",
     "traceback": [
      "\u001b[0;31m---------------------------------------------------------------------------\u001b[0m",
      "\u001b[0;31mTypeError\u001b[0m                                 Traceback (most recent call last)",
      "\u001b[0;32m<ipython-input-5-410846b76bdb>\u001b[0m in \u001b[0;36m<module>\u001b[0;34m()\u001b[0m\n\u001b[1;32m     22\u001b[0m \u001b[0mswitch\u001b[0m\u001b[0;34m(\u001b[0m\u001b[0;36m1\u001b[0m\u001b[0;34m,\u001b[0m \u001b[0;36m2\u001b[0m\u001b[0;34m,\u001b[0m \u001b[0;36m1\u001b[0m\u001b[0;34m)\u001b[0m\u001b[0;34m\u001b[0m\u001b[0m\n\u001b[1;32m     23\u001b[0m \u001b[0mswitch\u001b[0m\u001b[0;34m(\u001b[0m\u001b[0;36m1\u001b[0m\u001b[0;34m,\u001b[0m \u001b[0;36m2\u001b[0m\u001b[0;34m,\u001b[0m \u001b[0;36m2\u001b[0m\u001b[0;34m)\u001b[0m\u001b[0;34m\u001b[0m\u001b[0m\n\u001b[0;32m---> 24\u001b[0;31m \u001b[0mswitch\u001b[0m\u001b[0;34m(\u001b[0m\u001b[0;36m1\u001b[0m\u001b[0;34m,\u001b[0m \u001b[0;36m2\u001b[0m\u001b[0;34m,\u001b[0m \u001b[0;36m3\u001b[0m\u001b[0;34m)\u001b[0m \u001b[0;31m# 这句话会报错，重点理解 Python 是一门解释型语言\u001b[0m\u001b[0;34m\u001b[0m\u001b[0m\n\u001b[0m",
      "\u001b[0;32m<ipython-input-5-410846b76bdb>\u001b[0m in \u001b[0;36mswitcher\u001b[0;34m(a, b, c)\u001b[0m\n\u001b[1;32m     15\u001b[0m \u001b[0;32mdef\u001b[0m \u001b[0mget_switcher\u001b[0m\u001b[0;34m(\u001b[0m\u001b[0mfunc_list\u001b[0m\u001b[0;34m)\u001b[0m\u001b[0;34m:\u001b[0m\u001b[0;34m\u001b[0m\u001b[0m\n\u001b[1;32m     16\u001b[0m     \u001b[0;32mdef\u001b[0m \u001b[0mswitcher\u001b[0m\u001b[0;34m(\u001b[0m\u001b[0ma\u001b[0m\u001b[0;34m,\u001b[0m \u001b[0mb\u001b[0m\u001b[0;34m,\u001b[0m \u001b[0mc\u001b[0m\u001b[0;34m)\u001b[0m\u001b[0;34m:\u001b[0m\u001b[0;34m\u001b[0m\u001b[0m\n\u001b[0;32m---> 17\u001b[0;31m         \u001b[0mfunc_list\u001b[0m\u001b[0;34m[\u001b[0m\u001b[0mc\u001b[0m\u001b[0;34m]\u001b[0m\u001b[0;34m(\u001b[0m\u001b[0ma\u001b[0m\u001b[0;34m,\u001b[0m \u001b[0mb\u001b[0m\u001b[0;34m)\u001b[0m\u001b[0;34m\u001b[0m\u001b[0m\n\u001b[0m\u001b[1;32m     18\u001b[0m     \u001b[0;32mreturn\u001b[0m \u001b[0mswitcher\u001b[0m\u001b[0;34m\u001b[0m\u001b[0m\n\u001b[1;32m     19\u001b[0m \u001b[0;34m\u001b[0m\u001b[0m\n",
      "\u001b[0;31mTypeError\u001b[0m: other() takes no arguments (2 given)"
     ]
    }
   ],
   "source": [
    "#example 4.1.5\n",
    "\n",
    "def add(a, b):\n",
    "    print \"I am Add %d + %d = %d\" % (a, b, a + b)\n",
    "\n",
    "def sub(a, b):\n",
    "    print \"I am Add %d - %d = %d\" % (a, b, a - b)\n",
    "\n",
    "def multi(a, b):\n",
    "    print \"I am Multiply %d * %d = %d\" % (a, b, a * b)\n",
    "\n",
    "def other():\n",
    "    print \"I am error func\"\n",
    "    \n",
    "def get_switcher(func_list):\n",
    "    def switcher(a, b, c):\n",
    "        func_list[c](a, b)\n",
    "    return switcher\n",
    "\n",
    "switch = get_switcher([add, sub, multi, other])\n",
    "switch(1, 2, 0)\n",
    "switch(1, 2, 1)\n",
    "switch(1, 2, 2)\n",
    "switch(1, 2, 3) # 这句话会报错，重点理解 Python 是一门解释型语言"
   ]
  },
  {
   "cell_type": "markdown",
   "metadata": {},
   "source": [
    "---\n",
    "### 1.3 Lambda 表达式"
   ]
  },
  {
   "cell_type": "markdown",
   "metadata": {},
   "source": [
    "在 **Python** 中对于 **Lambda** 表达式的支持较差，在 **Python** 中 **Lambda** 表达式只能包含一条语句，并且不支持闭包*（类比 **C++11** 中的 **Lambda** 表达式）*，其格式由如下三部分组成：  \n",
    "Lambda关键字 参数列表 冒号 一条代表返回的语句： ***lambda x ：x + 1 *** \n",
    "\n",
    "下面来看一下如何在 **Python** 中使用 **Lambda** 表达式："
   ]
  },
  {
   "cell_type": "code",
   "execution_count": 28,
   "metadata": {},
   "outputs": [
    {
     "name": "stdout",
     "output_type": "stream",
     "text": [
      "732\n",
      "3\n",
      "[{'age': 22, 'name': 'SCZ'}, {'age': 21, 'name': 'WCZ'}, {'age': 20, 'name': 'HCZ'}]\n",
      "[{'age': 20, 'name': 'HCZ'}, {'age': 22, 'name': 'SCZ'}, {'age': 21, 'name': 'WCZ'}]\n"
     ]
    }
   ],
   "source": [
    "#example 4.1.6\n",
    "\n",
    "add_func = lambda x : x + 1\n",
    "print add_func(731) # lambda 表达式其实就是一个函数对象\n",
    "\n",
    "add = lambda x, y : x + y\n",
    "print add(1, 2) # 也可以定义多参数的 lambda 表达式\n",
    "\n",
    "person = [\n",
    "    {\"age\" : 20, \"name\" : \"HCZ\"},\n",
    "    {\"age\" : 21, \"name\" : \"WCZ\"},\n",
    "    {\"age\" : 22, \"name\" : \"SCZ\"}\n",
    "]\n",
    "\n",
    "# lambda 表达式配合 sorted 函数一起使用：想怎样，就怎样。\n",
    "print sorted(person, key = lambda x : x[\"age\"], reverse = True)\n",
    "print sorted(person, key = lambda x : x[\"name\"])"
   ]
  },
  {
   "cell_type": "markdown",
   "metadata": {},
   "source": [
    "---\n",
    "## 2、异常处理"
   ]
  },
  {
   "cell_type": "markdown",
   "metadata": {},
   "source": [
    "### 2.1 try 与 except 的使用"
   ]
  },
  {
   "cell_type": "markdown",
   "metadata": {},
   "source": [
    "**Python** 中对于 【`程序运行时`】 错误的处理与 **C++** 如出一辙，均采用【`抛出及捕获异常`】的方式。只不过 **Python** 比 **C++** 在异常处理这里更灵活，主要体现在：***多 except 子句***。\n",
    "\n",
    "下面就让我们来看一看 **Python** 异常处理的基本例子："
   ]
  },
  {
   "cell_type": "code",
   "execution_count": 65,
   "metadata": {},
   "outputs": [
    {
     "name": "stdout",
     "output_type": "stream",
     "text": [
      "Test Try except : \n",
      "5\n",
      "error index\n",
      "Test Normal : \n",
      "5\n"
     ]
    },
    {
     "ename": "IndexError",
     "evalue": "list index out of range",
     "output_type": "error",
     "traceback": [
      "\u001b[0;31m---------------------------------------------------------------------------\u001b[0m",
      "\u001b[0;31mIndexError\u001b[0m                                Traceback (most recent call last)",
      "\u001b[0;32m<ipython-input-65-878ef0537f55>\u001b[0m in \u001b[0;36m<module>\u001b[0;34m()\u001b[0m\n\u001b[1;32m     19\u001b[0m \u001b[0;32mprint\u001b[0m \u001b[0;34m\"Test Normal : \"\u001b[0m\u001b[0;34m\u001b[0m\u001b[0m\n\u001b[1;32m     20\u001b[0m \u001b[0;32mprint\u001b[0m \u001b[0marr\u001b[0m\u001b[0;34m[\u001b[0m\u001b[0;36m5\u001b[0m\u001b[0;34m]\u001b[0m\u001b[0;34m\u001b[0m\u001b[0m\n\u001b[0;32m---> 21\u001b[0;31m \u001b[0;32mprint\u001b[0m \u001b[0marr\u001b[0m\u001b[0;34m[\u001b[0m\u001b[0;36m12\u001b[0m\u001b[0;34m]\u001b[0m \u001b[0;31m# 这句代码会引发一个异常\u001b[0m\u001b[0;34m\u001b[0m\u001b[0m\n\u001b[0m\u001b[1;32m     22\u001b[0m \u001b[0;32mprint\u001b[0m \u001b[0;34m\"end\"\u001b[0m   \u001b[0;31m# 这句代码不会被执行\u001b[0m\u001b[0;34m\u001b[0m\u001b[0m\n",
      "\u001b[0;31mIndexError\u001b[0m: list index out of range"
     ]
    }
   ],
   "source": [
    "#example 4.2.1\n",
    "\n",
    "'''\n",
    "    接下来小海贼们跟着船长一起来看一个列表访问越界的例子\n",
    "    arr : 待访问列表\n",
    "    访问 arr 的一个合法位置和一个非法位置，看看效果差别\n",
    "'''\n",
    "\n",
    "arr = [i for i in xrange(0, 10)]\n",
    "\n",
    "print \"Test Try except : \"\n",
    "try:\n",
    "    print arr[5]\n",
    "    print arr[12]\n",
    "except:\n",
    "    print \"error index\"\n",
    "\n",
    "    \n",
    "print \"Test Normal : \"\n",
    "print arr[5]\n",
    "print arr[12] # 这句代码会引发一个异常\n",
    "print \"end\"   # 这句代码不会被执行"
   ]
  },
  {
   "cell_type": "markdown",
   "metadata": {},
   "source": [
    "---\n",
    "根据上面这个例子，我们可以看到，没有加 `try-except` 的代码段会抛出一个 `IndexError` 的异常，并且会终止整个程序的运行过程。而加了 `try-except` 的代码段，虽然出错了，可其会执行 `except` 里面的代码，之后还会继续执行接下来的程序。\n",
    "\n",
    "其中 `except` 子句后面是可以接异常类型的，指定捕获何种异常，并且 **Python** 中的 `try-except` 子句允许有多个 `except` 子句，具体看下面例子："
   ]
  },
  {
   "cell_type": "code",
   "execution_count": 79,
   "metadata": {},
   "outputs": [
    {
     "name": "stdout",
     "output_type": "stream",
     "text": [
      "Test Try except : \n",
      "5\n",
      "except 1 : list index out of range\n",
      "end\n"
     ]
    }
   ],
   "source": [
    "#example 4.2.2\n",
    "\n",
    "arr = [i for i in xrange(0, 10)]\n",
    "\n",
    "print \"Test Try except : \"\n",
    "try:\n",
    "    print arr[5]\n",
    "    print arr[12]\n",
    "    arr[3].append(3)\n",
    "    print 1 / 0\n",
    "except IndexError as err:\n",
    "    print \"except 1 : %s\" % err\n",
    "except AttributeError as err:\n",
    "    print \"except 2 : %s\" % err\n",
    "except Exception as other:\n",
    "    print \"except other : %s\" % other\n",
    "print \"end\""
   ]
  },
  {
   "cell_type": "markdown",
   "metadata": {},
   "source": [
    "---\n",
    "### 2.2 自定义异常"
   ]
  },
  {
   "cell_type": "markdown",
   "metadata": {},
   "source": [
    "**Python** 中的异常定义，与小海贼们之前了解的 **C++** 中的异常类似。一个异常对应了一个类，所有异常均继承自一个基类，下面就来进行介绍。\n",
    "\n",
    "**Python 异常基类：**Exception  \n",
    "**Exception 构造函数特点：**可以传入任意多的参数，内部用位置参数进行处理"
   ]
  },
  {
   "cell_type": "code",
   "execution_count": 132,
   "metadata": {},
   "outputs": [
    {
     "name": "stdout",
     "output_type": "stream",
     "text": [
      "PreconditionsErr | HaiZeiX tag | first\n",
      "PreconditionsErr | HaiZeiX tag | second\n",
      "('TestRaise2 Error', 1, [2, 3], {'key1': 'val1'}) | HaiZeiX tag |\n"
     ]
    }
   ],
   "source": [
    "class DatabaseException(Exception):\n",
    "    def __init__(self, err = 'DataBaseError', *args):\n",
    "        Exception.__init__(self, err, *args)\n",
    "    def __str__(self):\n",
    "        return Exception.__str__(self) + \" | HaiZeiX tag |\"\n",
    "\n",
    "class PreconditionsException(DatabaseException):\n",
    "    def __init__(self, err = 'PreconditionsErr'):\n",
    "        DatabaseException.__init__(self, err)\n",
    "\n",
    "def testRaise1():\n",
    "    raise PreconditionsException()\n",
    "\n",
    "def testRaise2():\n",
    "    raise DatabaseException(\"TestRaise2 Error\", 1, [2, 3], {\"key1\" : \"val1\"})\n",
    "    \n",
    "try:\n",
    "    testRaise1()\n",
    "except PreconditionsException as e:\n",
    "    print \"%s first\" % str(e)\n",
    "    print \"%s second\" % e\n",
    "\n",
    "try:\n",
    "    testRaise2()\n",
    "except DatabaseException as e:\n",
    "    print e\n",
    "        "
   ]
  },
  {
   "cell_type": "markdown",
   "metadata": {},
   "source": [
    "---\n",
    "### 2.3 常见异常及说明"
   ]
  },
  {
   "cell_type": "markdown",
   "metadata": {},
   "source": [
    "|编号|异常|说明|\n",
    "|-|-|-|\n",
    "|1|NameError|尝试访问一个未申明的变量|\n",
    "|2|ZeroDivisionError|除数为0|\n",
    "|3|SyntaxError|语法错误|\n",
    "|4|IndexError|索引超出范围|\n",
    "|5|KeyError|字典关键字不存在|\n",
    "|6|IOError|输入输出错误|\n",
    "|7|AttributeError|访问未知对象属性|\n",
    "|8|ValueError|数值错误|\n",
    "|9|TypeError|类型错误|\n",
    "|10|AssertionError|断言错误|\n",
    "|11|MemoryError|内存耗尽异常|"
   ]
  },
  {
   "cell_type": "markdown",
   "metadata": {},
   "source": [
    "---\n",
    "## 3、重要的辅助函数"
   ]
  },
  {
   "cell_type": "markdown",
   "metadata": {},
   "source": [
    "这里介绍三个在 **Python** 中非常重要的数据处理函数：  \n",
    "1. **zip(seq1 \\[, seq2 ...\\]) : 矩阵转置函数**\n",
    "2. **map(func , seq1 \\[, seq2 ...\\]) : 矩阵列处理函数** \n",
    "3. **reduce(func, seq \\[, init_func\\]) : 数据迭代处理函数**\n",
    "\n",
    "下面就来分别看看每一个函数的用法："
   ]
  },
  {
   "cell_type": "code",
   "execution_count": 148,
   "metadata": {},
   "outputs": [
    {
     "name": "stdout",
     "output_type": "stream",
     "text": [
      "matrix_arr = [(1, 2, 3), (2, 3, 4), (3, 4, 5), (4, 5, 6)]\n",
      "zip(*matrix_arr) = [(1, 2, 3, 4), (2, 3, 4, 5), (3, 4, 5, 6)]\n",
      "map(lambda x : x + 5, arr) = [6, 7, 8, 9], arr = [1, 2, 3, 4]\n",
      "map(list, matrix_arr) = [[1, 2, 3], [2, 3, 4], [3, 4, 5], [4, 5, 6]]\n",
      "result = 9720\n"
     ]
    }
   ],
   "source": [
    "#example 4.3.1\n",
    "\n",
    "arr = [1, 2, 3, 4]\n",
    "arr_1 = [2, 3, 4, 5]\n",
    "arr_2 = [3, 4, 5, 6]\n",
    "matrix_arr = zip(arr, arr_1, arr_2)\n",
    "\n",
    "print \"matrix_arr = %s\" % matrix_arr \n",
    "print \"zip(*matrix_arr) = %s\" % zip(*matrix_arr)\n",
    "print \"map(lambda x : x + 5, arr) = %s, arr = %s\" % (map(lambda x : x + 5, arr), arr)\n",
    "print \"map(list, matrix_arr) = %s\" % map(list, matrix_arr)\n",
    "print \"result = %s\" % reduce(lambda x, y : x * y, map(sum, matrix_arr), 1)\n"
   ]
  },
  {
   "cell_type": "markdown",
   "metadata": {},
   "source": [
    "---\n",
    "## 4、课后作业"
   ]
  },
  {
   "cell_type": "markdown",
   "metadata": {},
   "source": [
    "1. 随机生成一个 $2 \\times 3$ 和 $5 \\times 6$ 的矩阵，对两个矩阵每一列分别求和\n",
    "2. 实现一个函数，其传入一个函数 `func1`，传出一个函数 `func2`，要求 `func2` 与 `func1` 功能完全相同，只不过 `func2` 每次被执行的时候，都会输出【函数名称】【位置参数】【关键字参数】与【执行结果】\n",
    "3. 自学 **Python** 关于【生成器】、【装饰器】、【命名空间】和【作用域】的相关内容\n",
    "4. 针对于 **2.3** 中的异常类型，任意选择5个实现引发相关异常的代码\n",
    "5. 设计一个异常类，在发现单词中有大写字母时抛出，要求提示尽可能的人性化。\n",
    "6. 将 `example 4.1.6` 中的 person 数据集，每个人的年龄增加5岁后，将字典列表转换成三元组列表输出。"
   ]
  }
 ],
 "metadata": {
  "kernelspec": {
   "display_name": "Python 2",
   "language": "python",
   "name": "python2"
  },
  "language_info": {
   "codemirror_mode": {
    "name": "ipython",
    "version": 2
   },
   "file_extension": ".py",
   "mimetype": "text/x-python",
   "name": "python",
   "nbconvert_exporter": "python",
   "pygments_lexer": "ipython2",
   "version": "2.7.18"
  }
 },
 "nbformat": 4,
 "nbformat_minor": 2
}
