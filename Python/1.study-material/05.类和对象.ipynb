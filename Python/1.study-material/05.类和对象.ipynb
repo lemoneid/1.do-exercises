{
 "cells": [
  {
   "cell_type": "markdown",
   "metadata": {},
   "source": [
    "# python 第五课 By 海贼"
   ]
  },
  {
   "cell_type": "markdown",
   "metadata": {},
   "source": [
    "## 1、基本定义与使用"
   ]
  },
  {
   "cell_type": "markdown",
   "metadata": {},
   "source": [
    "上一章大家学习了 **Python** 中对于【面向过程】程序设计支持的最重要的组成部分：***函数***  \n",
    "这一章，来一起看一下 **Python** 中是如何支持【面向对象】程序设计的：\n",
    "1. 面向过程\n",
    "2. *** `面向对象` ***\n",
    "3. 泛型编程\n",
    "4. 函数式编程\n",
    "5. 可微分编程（待定...）\n",
    "\n",
    "**『面向对象』**的编程范式中核心部分就是如何将问题的组成部分抽象成对象，从而向上设计出类以及类之间的继承关系，以此来降低编码量，提升开发效率，减少 BUG 产生的概率。\n",
    "\n",
    "从这一章开始，大家需要记住一句话：* **`Python`** `是一门一切皆【对象】的动态解释型语言` *\n",
    "\n",
    "有了 ***【海贼 C/C++】*** 基础，上手 **Python** 并不困难，**Python** 中的类定义与使用方式与 **C/C++** 也很类似"
   ]
  },
  {
   "cell_type": "markdown",
   "metadata": {},
   "source": [
    "### 1.1 定义与使用"
   ]
  },
  {
   "cell_type": "code",
   "execution_count": 17,
   "metadata": {},
   "outputs": [
    {
     "name": "stdout",
     "output_type": "stream",
     "text": [
      "kitty type is : <__main__.Cat instance at 0x104168f80>\n"
     ]
    }
   ],
   "source": [
    "# example 5.1.1\n",
    "class Cat():\n",
    "    pass\n",
    "\n",
    "kitty = Cat()\n",
    "print \"kitty type is : %s\" % kitty"
   ]
  },
  {
   "cell_type": "markdown",
   "metadata": {},
   "source": [
    "---\n",
    "如上所示，定义了一个空类，程序依然可以跑得通。下面来给这个 `Cat类` 添加一点儿实际的 `属性` 和 `方法`："
   ]
  },
  {
   "cell_type": "code",
   "execution_count": 59,
   "metadata": {},
   "outputs": [
    {
     "name": "stdout",
     "output_type": "stream",
     "text": [
      "my name is : Hello Kitty\n"
     ]
    }
   ],
   "source": [
    "# example 5.1.2\n",
    "class Cat():\n",
    "    def __init__(self, name):\n",
    "        '''\n",
    "        Desc : Class Cat's constructor\n",
    "        '''\n",
    "        self.name = name # 对象属性\n",
    "    \n",
    "    def say(self):\n",
    "        '''\n",
    "        Desc : tell me your name\n",
    "        '''\n",
    "        print \"my name is : %s\" % self.name\n",
    "\n",
    "kitty = Cat(\"Hello Kitty\") # 实例化一个 Cat 类的对象，并且赋值给 kitty 引用\n",
    "kitty.say()"
   ]
  },
  {
   "cell_type": "markdown",
   "metadata": {},
   "source": [
    "---\n",
    "上面的例子中，`__init__()` 方法是类中的一个特殊方法，作用相当于大家熟悉的【构造函数】。而 `say()` 方法，是自定义的`对象方法`，`Cat 类` 中还新增了一个 `对象属性` `name`。有了上面这些基础，之前大家所掌握的面向对象的编程思维中有一部分已经可以开始用 **Python** 来进行实现了。\n",
    "\n",
    "**注意：** 方法定义中的 `self` 参数不可省略。\n",
    "\n",
    "要真的将以前的面向对象的编程思维发挥出来，**Python** 中还得增加如下几点特性：\n",
    "1. 继承 与 多态\n",
    "2. 类属性 与 类方法\n",
    "3. 访问权限控制\n",
    "\n",
    "下面就来一一学习这些剩下的重要特性吧。"
   ]
  },
  {
   "cell_type": "markdown",
   "metadata": {},
   "source": [
    "---\n",
    "### 1.2 继承与多态"
   ]
  },
  {
   "cell_type": "markdown",
   "metadata": {},
   "source": [
    "下面就来看看在 **Python** 中的 【继承】，并且 **Python** 中没有明确的 【多态】，这跟 **Python** 的语言特性有关系。"
   ]
  },
  {
   "cell_type": "code",
   "execution_count": 72,
   "metadata": {},
   "outputs": [
    {
     "name": "stdout",
     "output_type": "stream",
     "text": [
      "I'm a Cat, my name is : Hello Kitty\n",
      "I'm an Animal, my name is : Hello Kitty\n"
     ]
    }
   ],
   "source": [
    "# example 5.1.3\n",
    "class Animal(object):\n",
    "    def __init__(self, name):\n",
    "        self.name = name\n",
    "    \n",
    "    def say(self):\n",
    "        print \"I'm an Animal, my name is : %s\" % self.name\n",
    "\n",
    "class Cat(Animal): # Animal 作为基类，Cat 为派生类\n",
    "    def __init__(self, name):\n",
    "        Animal.__init__(self, name)\n",
    "    \n",
    "    def say(self):\n",
    "        print \"I'm a Cat, my name is : %s\" % self.name\n",
    "        super(Cat, self).say() # 调用父类方法，展示多态特性\n",
    "        \n",
    "kitty = Cat(\"Hello Kitty\")\n",
    "kitty.say()"
   ]
  },
  {
   "cell_type": "markdown",
   "metadata": {},
   "source": [
    "---\n",
    "上面的例子，展示了最基本的【继承】，下面将展示 **Python** 中【多重继承】的特性，及相关的程序设计方法："
   ]
  },
  {
   "cell_type": "code",
   "execution_count": 83,
   "metadata": {
    "scrolled": true
   },
   "outputs": [
    {
     "name": "stdout",
     "output_type": "stream",
     "text": [
      "Call obj.say() : \n",
      "    my name is : Hello Kitty\n",
      "Call obj.say() : \n",
      "    my name is : Batman\n",
      "----------------------------\n",
      "my name is : Hello Kitty\n",
      "my name is : Batman\n",
      "[Batman] I'm flying...\n",
      "Cat instance has no attribute 'fly'\n"
     ]
    }
   ],
   "source": [
    "# example 5.1.4\n",
    "class Sayable():\n",
    "    def say(self):\n",
    "        print \"my name is : %s\" % self.name\n",
    "\n",
    "class Flyable():\n",
    "    def fly(self):\n",
    "        print \"[%s] I'm flying...\" % self.name\n",
    "        \n",
    "class Animal():\n",
    "    def __init__(self, name):\n",
    "        self.name = name\n",
    "\n",
    "class Cat(Animal, Sayable):\n",
    "    pass\n",
    "\n",
    "class Bat(Animal, Sayable, Flyable):\n",
    "    pass\n",
    "\n",
    "# 展示鸭子方法\n",
    "def say(obj): \n",
    "    print \"Call obj.say() : \"\n",
    "    print \"   \",\n",
    "    obj.say()\n",
    "\n",
    "cat = Cat(\"Hello Kitty\")\n",
    "bat = Bat(\"Batman\")\n",
    "\n",
    "try:\n",
    "    say(cat)\n",
    "    say(bat)\n",
    "    print \"----------------------------\"\n",
    "    cat.say()\n",
    "    bat.say()\n",
    "    bat.fly()\n",
    "    cat.fly() # 这句话会报错，猫不会飞\n",
    "except AttributeError as err :\n",
    "    print err"
   ]
  },
  {
   "cell_type": "markdown",
   "metadata": {},
   "source": [
    "---\n",
    "### 1.3 对象属性与类属性"
   ]
  },
  {
   "cell_type": "markdown",
   "metadata": {},
   "source": [
    "***【海贼 C/C++】*** 学习中，在对象这里，详细的区分了【对象属性】与【类属性】的区别。\n",
    "\n",
    "在 **Python** 中也不例外，这两者的表现形式与之前所认识的也是一致的。"
   ]
  },
  {
   "cell_type": "code",
   "execution_count": 1,
   "metadata": {},
   "outputs": [
    {
     "name": "stdout",
     "output_type": "stream",
     "text": [
      "1. Animal count : 100\n",
      "2. Animal count : 101\n",
      "3. Animal count : 101\n"
     ]
    }
   ],
   "source": [
    "# example 5.1.5\n",
    "class Animal():\n",
    "    count = 0\n",
    "    def __init__(self, name):\n",
    "        self.name = name\n",
    "        Animal.count += 1\n",
    "\n",
    "class Cat(Animal):\n",
    "    def say(self):\n",
    "        print \"my name is : %s\" % self.name\n",
    "\n",
    "def create_cat():\n",
    "    Cat(\"cat-1\")\n",
    "\n",
    "for i in xrange(0, 100):\n",
    "    create_cat()\n",
    "\n",
    "print \"1. Animal count : %d\" % Animal.count\n",
    "cat = Cat(\"Hello Kitty\")\n",
    "print \"2. Animal count : %d\" % Animal.count\n",
    "print \"3. Animal count : %d\" % cat.count"
   ]
  },
  {
   "cell_type": "markdown",
   "metadata": {},
   "source": [
    "---\n",
    "上面的例子，想要实现的是一个统计 `Animal 类` 的对象数量的功能。可实际效果不符合预期，这里要引入另外一个特殊的方法 `__del__()` 方法相当于大家熟知的【析构函数】，关于 `__del__()` 的具体用法与特性，自行探究，并完成【作业】中的相关题目。\n",
    "\n",
    "在此例中，`name` 就是【对象属性】，每个对象都可以不同，而定义在 `class` 内部，与对象方法同级的属性，为【类属性】，例如其中的 `count` 属性。"
   ]
  },
  {
   "cell_type": "markdown",
   "metadata": {},
   "source": [
    "---\n",
    "### 1.4 类方法与静态方法"
   ]
  },
  {
   "cell_type": "markdown",
   "metadata": {},
   "source": [
    "**Python** 中对于【类方法】与【静态方法】有严格的区分，这点区别与 **Python** 实现对象方法的机制有密切关系。关于这点，需要在后续的学习中慢慢体会，这里先放做一个留存问题。\n",
    "\n",
    "**Python** 中无论是【类方法】或者是【静态方法】，都是用【装饰器】的技巧来完成的：\n",
    "1. @classmethod  类方法**装饰器**\n",
    "2. @staticmethod 静态方法**装饰器**"
   ]
  },
  {
   "cell_type": "code",
   "execution_count": 39,
   "metadata": {},
   "outputs": [
    {
     "name": "stdout",
     "output_type": "stream",
     "text": [
      "object method output : 456\n",
      " class method output : 123\n",
      "static method output : 456\n",
      "static method output : 123\n"
     ]
    }
   ],
   "source": [
    "# example 5.1.6\n",
    "class Father:\n",
    "    count = 123\n",
    "    def __init__(self):\n",
    "        self.count = 456\n",
    "    \n",
    "    def say1(self):\n",
    "        print \"object method output : %d\" % self.count\n",
    "    \n",
    "    @classmethod\n",
    "    def say2(cls):\n",
    "        print \" class method output : %d\" % cls.count\n",
    "    \n",
    "    @staticmethod\n",
    "    def say3(var1):\n",
    "        print \"static method output : %d\" % var1.count\n",
    "        \n",
    "test = Father()\n",
    "\n",
    "test.say1() # 调用对象方法\n",
    "test.say2() # 调用类方法\n",
    "\n",
    "test.say3(test) # 调用静态方法\n",
    "test.say3(test.__class__) # 调用静态方法"
   ]
  },
  {
   "cell_type": "markdown",
   "metadata": {},
   "source": [
    "---\n",
    "## 2、属性的访问设置"
   ]
  },
  {
   "cell_type": "markdown",
   "metadata": {},
   "source": [
    "### 2.1 公有（public）与私有（private）"
   ]
  },
  {
   "cell_type": "markdown",
   "metadata": {},
   "source": [
    "**Python** 里面方法和属性有公有和私有之分，区分这两者非常简单，名字前面有两个下划线的就是私有的，否则就是公有的。  \n",
    "在类外部访问私有的方法和属性会报错，可在 **Python** 中不是完全不能访问私有属性和方法，这要『归功』于 **Python** 的特(tou)殊(lan)机制。\n",
    "\n",
    "**Python** 底层对于私有方法和属性，实际上只是在名称上做了一些特殊处理，在前面加上了类名罢了。  \n",
    "这种简单粗暴的处理方法，对于应用来说已经足够了。下面举个例子："
   ]
  },
  {
   "cell_type": "code",
   "execution_count": 51,
   "metadata": {},
   "outputs": [
    {
     "name": "stdout",
     "output_type": "stream",
     "text": [
      "456\n",
      "789\n",
      "TestClass instance has no attribute '__count'\n"
     ]
    }
   ],
   "source": [
    "# example 5.2.1\n",
    "class TestClass:\n",
    "    _TestClass__count = 123\n",
    "    __count = 789\n",
    "    count = 456\n",
    "    pass\n",
    "\n",
    "p = TestClass()\n",
    "\n",
    "'''\n",
    "    请思考：第二行输出的结果为什么是 789\n",
    "'''\n",
    "try :\n",
    "    print p.count\n",
    "    print p._TestClass__count\n",
    "    print p.__count # 这句话会报错，因为 __count 是私有的\n",
    "except Exception as err:\n",
    "    print err"
   ]
  },
  {
   "cell_type": "markdown",
   "metadata": {},
   "source": [
    "---\n",
    "### 2.2 属性（attribute） 与 特性（property）"
   ]
  },
  {
   "cell_type": "markdown",
   "metadata": {},
   "source": [
    "在 ***【海贼 C/C++】*** 课程的学习中，关于对象属性，通常情况下需要对其封装相应的 `get/set` 方法，在 **Python** 中实现这一特性，特别方便，这里有一个 **【特性装饰器】：property**，这个装饰器中，有三个重要的组成部分：\n",
    "\n",
    "1. 获取属性的操作 ： getter\n",
    "2. 设置属性的操作 ： setter\n",
    "3. 删除属性的操作 ： deleter\n",
    "\n",
    "下面请看示例代码："
   ]
  },
  {
   "cell_type": "code",
   "execution_count": 72,
   "metadata": {},
   "outputs": [
    {
     "name": "stdout",
     "output_type": "stream",
     "text": [
      "class <class '__main__.TestClass'>._name getter\n",
      "HCZ\n",
      "class <class '__main__.TestClass'>._name setter : SCZ\n",
      "class <class '__main__.TestClass'>._name getter\n",
      "SCZ\n",
      "class %s._name is deleted\n",
      "class <class '__main__.TestClass'>._name getter\n"
     ]
    },
    {
     "ename": "AttributeError",
     "evalue": "'TestClass' object has no attribute '_name'",
     "output_type": "error",
     "traceback": [
      "\u001b[0;31m---------------------------------------------------------------------------\u001b[0m",
      "\u001b[0;31mAttributeError\u001b[0m                            Traceback (most recent call last)",
      "\u001b[0;32m<ipython-input-72-9db72f6ace27>\u001b[0m in \u001b[0;36m<module>\u001b[0;34m()\u001b[0m\n\u001b[1;32m      1\u001b[0m \u001b[0;31m# example 5.2.2\u001b[0m\u001b[0;34m\u001b[0m\u001b[0;34m\u001b[0m\u001b[0m\n\u001b[0;32m----> 2\u001b[0;31m \u001b[0;32mclass\u001b[0m \u001b[0mExample_5_2_2\u001b[0m\u001b[0;34m:\u001b[0m\u001b[0;34m\u001b[0m\u001b[0m\n\u001b[0m\u001b[1;32m      3\u001b[0m     '''\n\u001b[1;32m      4\u001b[0m         \u001b[0;31m重\u001b[0m\u001b[0;31m点\u001b[0m\u001b[0;31m：\u001b[0m\u001b[0mClass\u001b[0m\u001b[0;31m \u001b[0m\u001b[0;31m要\u001b[0m\u001b[0;31m是\u001b[0m\u001b[0;31m想\u001b[0m\u001b[0;31m要\u001b[0m\u001b[0;31m具\u001b[0m\u001b[0;31m备\u001b[0m\u001b[0;31m上\u001b[0m\u001b[0;31m述\u001b[0m\u001b[0;31m特\u001b[0m\u001b[0;31m性\u001b[0m\u001b[0;31m，\u001b[0m\u001b[0;31m必\u001b[0m\u001b[0;31m须\u001b[0m\u001b[0;31m继\u001b[0m\u001b[0;31m承\u001b[0m \u001b[0mobject\u001b[0m\u001b[0;31m \u001b[0m\u001b[0;31m基\u001b[0m\u001b[0;31m类\u001b[0m\u001b[0;34m\u001b[0m\u001b[0m\n\u001b[1;32m      5\u001b[0m     '''\n",
      "\u001b[0;32m<ipython-input-72-9db72f6ace27>\u001b[0m in \u001b[0;36mExample_5_2_2\u001b[0;34m()\u001b[0m\n\u001b[1;32m     28\u001b[0m     \u001b[0;32mprint\u001b[0m \u001b[0mtest\u001b[0m\u001b[0;34m.\u001b[0m\u001b[0mname\u001b[0m\u001b[0;34m\u001b[0m\u001b[0m\n\u001b[1;32m     29\u001b[0m     \u001b[0;32mdel\u001b[0m \u001b[0mtest\u001b[0m\u001b[0;34m.\u001b[0m\u001b[0mname\u001b[0m\u001b[0;34m\u001b[0m\u001b[0m\n\u001b[0;32m---> 30\u001b[0;31m     \u001b[0;32mprint\u001b[0m \u001b[0mtest\u001b[0m\u001b[0;34m.\u001b[0m\u001b[0mname\u001b[0m \u001b[0;31m# 这行代码会报错\u001b[0m\u001b[0;34m\u001b[0m\u001b[0m\n\u001b[0m",
      "\u001b[0;32m<ipython-input-72-9db72f6ace27>\u001b[0m in \u001b[0;36mname\u001b[0;34m(self)\u001b[0m\n\u001b[1;32m     11\u001b[0m         \u001b[0;32mdef\u001b[0m \u001b[0mname\u001b[0m\u001b[0;34m(\u001b[0m\u001b[0mself\u001b[0m\u001b[0;34m)\u001b[0m\u001b[0;34m:\u001b[0m\u001b[0;34m\u001b[0m\u001b[0m\n\u001b[1;32m     12\u001b[0m             \u001b[0;32mprint\u001b[0m \u001b[0;34m\"class %s._name getter\"\u001b[0m \u001b[0;34m%\u001b[0m \u001b[0mself\u001b[0m\u001b[0;34m.\u001b[0m\u001b[0m__class__\u001b[0m\u001b[0;34m\u001b[0m\u001b[0m\n\u001b[0;32m---> 13\u001b[0;31m             \u001b[0;32mreturn\u001b[0m \u001b[0mself\u001b[0m\u001b[0;34m.\u001b[0m\u001b[0m_name\u001b[0m\u001b[0;34m\u001b[0m\u001b[0m\n\u001b[0m\u001b[1;32m     14\u001b[0m \u001b[0;34m\u001b[0m\u001b[0m\n\u001b[1;32m     15\u001b[0m         \u001b[0;34m@\u001b[0m\u001b[0mname\u001b[0m\u001b[0;34m.\u001b[0m\u001b[0msetter\u001b[0m\u001b[0;34m\u001b[0m\u001b[0m\n",
      "\u001b[0;31mAttributeError\u001b[0m: 'TestClass' object has no attribute '_name'"
     ]
    }
   ],
   "source": [
    "# example 5.2.2\n",
    "class Example_5_2_2:\n",
    "    '''\n",
    "        重点：Class 要是想要具备上述特性，必须继承 object 基类\n",
    "    '''\n",
    "    class TestClass(object):\n",
    "        def __init__(self):\n",
    "            self._name = \"HCZ\"\n",
    "        \n",
    "        @property\n",
    "        def name(self):\n",
    "            print \"class %s._name getter\" % self.__class__\n",
    "            return self._name\n",
    "        \n",
    "        @name.setter\n",
    "        def name(self, val):\n",
    "            print \"class %s._name setter : %s\" % (self.__class__, val)\n",
    "            self._name = val\n",
    "        \n",
    "        @name.deleter\n",
    "        def name(self):\n",
    "            print \"class %s._name is deleted\"\n",
    "            del self._name\n",
    "    \n",
    "    test = TestClass()\n",
    "    print test.name\n",
    "    test.name = \"SCZ\"\n",
    "    print test.name\n",
    "    del test.name\n",
    "    print test.name # 这行代码会报错"
   ]
  },
  {
   "cell_type": "markdown",
   "metadata": {},
   "source": [
    "上例中可以看到，我们用 `@property` 装饰器，将 `name` 成员方法装饰成了一个 `getter` 方法，与此同时，产生了两个装饰器：\n",
    "1. `name.setter` 装饰器\n",
    "2. `name.deleter` 装饰器\n",
    "\n",
    "分别用于装饰设置 `name` 的方法以及调用 `del` 方法时触发的动作。"
   ]
  },
  {
   "cell_type": "markdown",
   "metadata": {},
   "source": [
    "---\n",
    "## 3、属性和方法的动态绑定"
   ]
  },
  {
   "cell_type": "markdown",
   "metadata": {},
   "source": [
    "**Python** 允许动态的给 `类` 和 `对象` 绑定属性和方法，这给实现带来了很大的灵活性。此时如果想要限制绑定的属性，**Python** 中提供了`__slots__` 类属性来支持这个需求。  \n",
    "\n",
    "`__slots__` 类属性有如下特性：\n",
    "1. 只对当前类起作用，对继承的子类不起作用\n",
    "2. 子类如果也定义了 `__slots__` ，那么子类允许的属性就是与父类 `__slots__` 的并集"
   ]
  },
  {
   "cell_type": "code",
   "execution_count": 3,
   "metadata": {},
   "outputs": [
    {
     "name": "stdout",
     "output_type": "stream",
     "text": [
      "'Student' object has no attribute 'sex'\n"
     ]
    }
   ],
   "source": [
    "class Example_5_3_1:\n",
    "    class Student(object):\n",
    "        __slots__ = (\"name\", \"age\") # 这里要使用 tuple\n",
    "        pass\n",
    "    \n",
    "    try:\n",
    "        a = Student()\n",
    "        a.name = \"Hug\"\n",
    "        a.age = 90\n",
    "        a.sex = \"male\" # 这句话会产生异常\n",
    "    except Exception as err:\n",
    "        print err"
   ]
  },
  {
   "cell_type": "markdown",
   "metadata": {},
   "source": [
    "--- \n",
    "这章一开始的一句话，需要引起小海贼们的注意：* **`Python`** `是一门一切皆【对象】的动态解释型语言` *\n",
    "\n",
    "1. 【类】是一个对象\n",
    "2. 【类的实例】是一个对象\n",
    "3. 【类的实例】的类型是【类】\n",
    "4. 【类】的类型是【？】\n",
    "\n",
    "大家如果自行输出 `type(class_name)` 的话，会发现任何一个类的类型都是 `type`，这个 `type`，大家可以类比：`str`、`tuple`、`list`、`int` 等方法。只不过 `type` 构造的是一个类 / 返回一个对象的类型。"
   ]
  },
  {
   "cell_type": "code",
   "execution_count": 2,
   "metadata": {},
   "outputs": [
    {
     "name": "stdout",
     "output_type": "stream",
     "text": [
      "hello, world\n",
      "<class '__main__.Hello'>\n",
      "<type 'type'>\n",
      "hello, haizei\n",
      "<class '__main__.Hello'>\n",
      "<type 'type'>\n",
      "hello, world\n"
     ]
    }
   ],
   "source": [
    "class Example_5_3_2:\n",
    "    class Hello(object):\n",
    "        def say(self):\n",
    "            print \"hello, world\"\n",
    "    a = Hello()\n",
    "    a.say()\n",
    "    print type(a)\n",
    "    print type(Hello)\n",
    "    \n",
    "    def say2(self):\n",
    "        print \"hello, haizei\"\n",
    "    TempClass = type('Hello', (object, ), dict(say = say2))\n",
    "    b = TempClass()\n",
    "    b.say()\n",
    "    print type(b)\n",
    "    print type(TempClass)\n",
    "    c = Hello()\n",
    "    c.say()"
   ]
  },
  {
   "cell_type": "markdown",
   "metadata": {},
   "source": [
    "---\n",
    "关于【类】创建的过程，还有一个更具魔术性的 `成员`，名字叫做：`metaclass（元类）`。  \n",
    "如果把【类】理解成修改【实例】的最直接的途径，那么【元类】就是修改【类】的最基直接的途径。\n",
    "\n",
    "下面是一个自制 `list` 结构的代码，小海贼们先自行体会一下："
   ]
  },
  {
   "cell_type": "code",
   "execution_count": 4,
   "metadata": {},
   "outputs": [
    {
     "name": "stdout",
     "output_type": "stream",
     "text": [
      "(<type 'list'>,)\n",
      "(<type 'list'>,)\n",
      "<class '__main__.MyList'> : [456]\n",
      "'OtherList' object has no attribute 'add'\n",
      "<class '__main__.OtherList'> : []\n"
     ]
    }
   ],
   "source": [
    "# Example 5.3.3:\n",
    "class MyListMetaclass(type):\n",
    "    def __new__(cls, name, bases, attrs):\n",
    "        if name == 'MyList': # 给 MyList 类添加 add 方法\n",
    "            attrs['add'] = lambda self, x: self.append(x)\n",
    "        return super(MyListMetaclass, cls).__new__(cls, name, bases, attrs)\n",
    "\n",
    "class MyList(list):\n",
    "    __metaclass__ = MyListMetaclass\n",
    "\n",
    "class OtherList(list):\n",
    "    __metaclass__ = MyListMetaclass\n",
    "\n",
    "l = MyList()\n",
    "l.add(456)\n",
    "print \"%s : %s\" % (str(l.__class__), str(l))\n",
    "\n",
    "# OtherList 类没有 add 方法\n",
    "l = OtherList()\n",
    "try:\n",
    "    l.add(567)\n",
    "except Exception as err:\n",
    "    print err\n",
    "print \"%s : %s\" % (str(l.__class__), str(l))"
   ]
  },
  {
   "cell_type": "markdown",
   "metadata": {},
   "source": [
    "从上面可以看到，`__new__` 方法类似于 `__init__` 方法，那么这两者有什么关系呢？\n",
    "\n",
    "1. __init__ 方法初始化类的实例\n",
    "2. __new__  方法初始化类，并生成类的实例\n",
    "\n",
    "①：从上面这个做用中，大家不难推断出：`__new__` 方法先执行，生成一个类的实例以后，再传给 `__init__` 方法。"
   ]
  },
  {
   "cell_type": "markdown",
   "metadata": {},
   "source": [
    "---\n",
    "## 4、类的特殊方法"
   ]
  },
  {
   "cell_type": "markdown",
   "metadata": {},
   "source": [
    "|编号|方法|说明|\n",
    "|-|-|-|\n",
    "|1|$__init__(self, ...)$|构造函数|\n",
    "|2|$__del__(self)$|析构函数|\n",
    "|3|$__sub__(self, b)$|重载减法运算符，$self - b$ |\n",
    "|4|$__getitem__(self, key)$|索引操作符，$x[key]$ 时调用|\n",
    "|5|$__cmp__(self, o)$|比较运算，$\\lt$ 0、$=$ 0、$\\gt$ 0|\n",
    "|6|$__call__(self, ...)$|重载 $()$，配合 $callable()$|\n",
    "|7|$__getattr__(s, name)$|当在对象中找不到属性时调用|\n",
    "|8|$__setattr__(s, name, val)$|当给对象属性赋值的时候调用|\n",
    "|9|$__delattr__(s, name)$|当删除对象属性的时候调用|\n",
    "|10|更多请查看：|[Python 手册](https://docs.python.org/2.7/reference/datamodel.html?#customizing-class-creation)|"
   ]
  },
  {
   "cell_type": "markdown",
   "metadata": {},
   "source": [
    "---\n",
    "## 5、课后作业"
   ]
  },
  {
   "cell_type": "markdown",
   "metadata": {},
   "source": [
    "1. 修改 `example 5.1.5` 的程序，使之符合功能要求。\n",
    "2. 修改 `example 5.3.1` 中 `Student` 类的定义（不改变 `__slots__` 的前提下），使之后的代码可以正常运行。\n",
    "3. 请设计实验，验证 ① 处所说结论。\n",
    "4. 根据如下代码，完成相应功能，使之满足如下输出。"
   ]
  },
  {
   "cell_type": "code",
   "execution_count": null,
   "metadata": {},
   "outputs": [],
   "source": [
    "class User(Model):\n",
    "    # 定义类的属性到列的映射：\n",
    "    id = IntegerField('id')\n",
    "    name = StringField('username')\n",
    "    email = StringField('email')\n",
    "    password = StringField('password')\n",
    "\n",
    "# 创建一个实例：\n",
    "u = User(id=12345, name='Michael', email='test@orm.org', password='my-pwd', adfas='87663')\n",
    "# 保存到数据库：\n",
    "u.save()"
   ]
  },
  {
   "cell_type": "markdown",
   "metadata": {},
   "source": [
    "    Found model: User\n",
    "    Found mapping: email ==> <StringField:email>\n",
    "    Found mapping: password ==> <StringField:password>\n",
    "    Found mapping: id ==> <IntegerField:uid>\n",
    "    Found mapping: name ==> <StringField:username>\n",
    "    SQL: insert into User (password,email,username,uid) values (?,?,?,?)\n",
    "    ARGS: ['my-pwd', 'test@orm.org', 'Michael', 12345]"
   ]
  }
 ],
 "metadata": {
  "kernelspec": {
   "display_name": "Python 2",
   "language": "python",
   "name": "python2"
  },
  "language_info": {
   "codemirror_mode": {
    "name": "ipython",
    "version": 2
   },
   "file_extension": ".py",
   "mimetype": "text/x-python",
   "name": "python",
   "nbconvert_exporter": "python",
   "pygments_lexer": "ipython2",
   "version": "2.7.10"
  }
 },
 "nbformat": 4,
 "nbformat_minor": 2
}
