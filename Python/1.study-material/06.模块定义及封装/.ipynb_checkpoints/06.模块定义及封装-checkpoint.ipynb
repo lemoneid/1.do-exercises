{
 "cells": [
  {
   "cell_type": "markdown",
   "metadata": {},
   "source": [
    "# python 第六课 By 海贼"
   ]
  },
  {
   "cell_type": "markdown",
   "metadata": {},
   "source": [
    "## 1、模块的定义与使用"
   ]
  },
  {
   "cell_type": "markdown",
   "metadata": {},
   "source": [
    "前言：上一章大家学习了一些类和对象的概念并做了一些相关的小试验，今天我们学习Python的模块部分。\n",
    "\n",
    "**Python 模块(Module)，是一个 Python 文件，以 .py 结尾，包含了Python对象定义和Python语句。**\n",
    "\n",
    "**Python模块的优点：**\n",
    "- 模块让你能够有逻辑地组织你的 Python 代码段。\n",
    "- 把相关的代码分配到一个模块里能让你的代码更好用，更易懂。\n",
    "- 模块能定义函数，类和变量，模块里也能包含可执行的代码。"
   ]
  },
  {
   "cell_type": "markdown",
   "metadata": {},
   "source": [
    "### 1.1、模块的简单使用\n",
    "\n",
    "Python本身就内置了很多非常有用的模块，只要安装完毕，这些模块就可以立刻使用。"
   ]
  },
  {
   "cell_type": "code",
   "execution_count": 21,
   "metadata": {},
   "outputs": [
    {
     "name": "stdout",
     "output_type": "stream",
     "text": [
      "PI : 3.141592653589793115997963468544\n",
      "fabs(-2) : 2\n"
     ]
    }
   ],
   "source": [
    "#!/usr/bin/evn python\n",
    "# coding=utf-8\n",
    "\n",
    "import math\n",
    "\n",
    "print \"PI : %.30f\"    % math.pi\n",
    "print \"fabs(-2) : %d\" % math.fabs(-2)"
   ]
  },
  {
   "cell_type": "markdown",
   "metadata": {},
   "source": [
    "### 1.2、模块的引入"
   ]
  },
  {
   "cell_type": "markdown",
   "metadata": {},
   "source": [
    "#### 1.2.1 import 语句\n",
    "\n",
    "可以使用 import 语句来引入模块，语法：`import module1[, module2[,... moduleN]`\n",
    "\n",
    "比如要引用模块 `math`，就可以在文件最开始的地方用 `import math` 来引入。在调用 math 模块中的函数时，必须这样引用：模块名.函数名(math.fabs)\n",
    "\n",
    "注意：**不管你执行了多少次import，一个模块只会被导入一次。这样可以防止导入模块被一遍又一遍地执行。**"
   ]
  },
  {
   "cell_type": "markdown",
   "metadata": {},
   "source": [
    "#### 1.2.2 模块别名\n",
    "\n",
    "导入模块时，还可以使用别名，这样，可以在运行时根据当前环境选择最合适的模块。比如Python标准库一般会提供StringIO和cStringIO两个库，这两个库的接口和功能是一样的，但是cStringIO是C写的，速度更快，所以，你会经常看到这样的写法："
   ]
  },
  {
   "cell_type": "code",
   "execution_count": 10,
   "metadata": {},
   "outputs": [],
   "source": [
    "try:\n",
    "    import cStringIO as StringIO\n",
    "except ImportError: # 导入失败会捕获到ImportError\n",
    "    import StringIO"
   ]
  },
  {
   "cell_type": "markdown",
   "metadata": {},
   "source": [
    "这样就可以优先导入cStringIO。如果有些平台不提供cStringIO，还可以降级使用StringIO。导入cStringIO时，用import ... as ...指定了别名StringIO，因此，后续代码引用StringIO即可正常工作。\n",
    "\n",
    "由于Python是动态语言，函数签名一致接口就一样，因此，无论导入哪个模块后续代码都能正常工作。"
   ]
  },
  {
   "cell_type": "markdown",
   "metadata": {},
   "source": [
    "#### 1.2.3 from…import 语句\n",
    "\n",
    "Python 的 from 语句让你从模块中导入一个指定的部分到当前命名空间中。语法：`from modname import name1[, name2[, ... nameN]]`"
   ]
  },
  {
   "cell_type": "code",
   "execution_count": 5,
   "metadata": {},
   "outputs": [
    {
     "name": "stdout",
     "output_type": "stream",
     "text": [
      "3.14159265359\n"
     ]
    },
    {
     "ename": "NameError",
     "evalue": "name 'math' is not defined",
     "output_type": "error",
     "traceback": [
      "\u001b[0;31m---------------------------------------------------------------------------\u001b[0m",
      "\u001b[0;31mNameError\u001b[0m                                 Traceback (most recent call last)",
      "\u001b[0;32m<ipython-input-5-10799f57b0b9>\u001b[0m in \u001b[0;36m<module>\u001b[0;34m()\u001b[0m\n\u001b[1;32m      5\u001b[0m \u001b[0;34m\u001b[0m\u001b[0m\n\u001b[1;32m      6\u001b[0m \u001b[0;31m# 没有引入常数fabs，导致错误\u001b[0m\u001b[0;34m\u001b[0m\u001b[0;34m\u001b[0m\u001b[0m\n\u001b[0;32m----> 7\u001b[0;31m \u001b[0;32mprint\u001b[0m \u001b[0mmath\u001b[0m\u001b[0;34m.\u001b[0m\u001b[0mfabs\u001b[0m\u001b[0;34m(\u001b[0m\u001b[0;34m-\u001b[0m\u001b[0;36m2\u001b[0m\u001b[0;34m)\u001b[0m\u001b[0;34m\u001b[0m\u001b[0m\n\u001b[0m",
      "\u001b[0;31mNameError\u001b[0m: name 'math' is not defined"
     ]
    }
   ],
   "source": [
    "#!/usr/bin/evn python\n",
    "# coding=utf-8\n",
    "\n",
    "'''\n",
    "从math模块中引入 pi,这个声明不会把整个 math 模块导入到当前的命名空间中，\n",
    "它只会将 math 里的 pi 单个引入到执行这个声明的模块的全局符号表。\n",
    "'''\n",
    "from math import pi\n",
    "\n",
    "print pi\n",
    "\n",
    "# 没有引入函数fabs，导致错误\n",
    "print math.fabs(-2)"
   ]
  },
  {
   "cell_type": "markdown",
   "metadata": {},
   "source": [
    "#### 1.2.4 from…import* 语句\n",
    "\n",
    "把一个模块的所有内容全都导入到当前的命名空间也是可行的，只需使用如下声明：`from modname import *`，建议这种声明不要过多地使用。 "
   ]
  },
  {
   "cell_type": "code",
   "execution_count": 8,
   "metadata": {},
   "outputs": [
    {
     "name": "stdout",
     "output_type": "stream",
     "text": [
      "3.14159265359\n",
      "2.0\n"
     ]
    }
   ],
   "source": [
    "#!/usr/bin/evn python\n",
    "# coding=utf-8\n",
    "\n",
    "from math import *\n",
    "\n",
    "print pi\n",
    "print fabs(-2)"
   ]
  },
  {
   "cell_type": "markdown",
   "metadata": {},
   "source": [
    "### 1.3、搜索路径\n",
    "\n",
    "当解释器遇到 import 语句，如果模块在当前的搜索路径就会被导入。**搜索路径是一个解释器会先进行搜索的所有目录的列表。**\n",
    "\n",
    "当你导入一个模块，python 解析器对模块位置的搜索顺序是：\n",
    "- 当前目录\n",
    "- 如果不在当前目录，python 则搜索在 shell 变量 PYTHONPATH 下的每个目录。\n",
    "- 如果都找不到，python会察看默认路径。UNIX下，默认路径一般为/usr/local/lib/python/。\n",
    "\n",
    "模块搜索路径存储在 system 模块的 sys.path 变量中。变量里包含当前目录，PYTHONPATH和由安装过程决定的默认目录。"
   ]
  },
  {
   "cell_type": "code",
   "execution_count": 2,
   "metadata": {},
   "outputs": [
    {
     "name": "stdout",
     "output_type": "stream",
     "text": [
      " \n"
     ]
    }
   ],
   "source": [
    "#!/usr/bin/evn python\n",
    "# coding=utf-8\n",
    "\n",
    "import sys\n",
    "\n",
    "# 请自行运行\n",
    "print sys.path\n",
    "\n",
    "# 如果要临时添加搜索路径\n",
    "# 这种方式在运行时修改，运行结束后失效\n",
    "sys.path.append(\"your path\");"
   ]
  },
  {
   "cell_type": "markdown",
   "metadata": {},
   "source": [
    "### 1.4、PYTHONPATH 变量\n",
    "\n",
    "作为环境变量，PYTHONPATH 由装在一个列表里的许多目录组成。PYTHONPATH 的语法和 shell 变量 PATH 的一样。\n",
    "\n",
    "在 UNIX 系统，典型的 PYTHONPATH 如下：` set PYTHONPATH=/usr/local/lib/pythonX.X`"
   ]
  },
  {
   "cell_type": "markdown",
   "metadata": {},
   "source": [
    "## 2、模块封装"
   ]
  },
  {
   "cell_type": "markdown",
   "metadata": {},
   "source": [
    "### 2.1、自定义模块\n",
    "\n",
    "之前小伙伴们学习了python中类的概念和使用方法，那小伙伴们思考一下**模块和类的联系**又是什么呢？\n",
    "\n",
    "下面我们将编写一个 myModel 模块。"
   ]
  },
  {
   "cell_type": "code",
   "execution_count": 4,
   "metadata": {},
   "outputs": [],
   "source": [
    "#!/usr/bin/evn python\n",
    "# coding=utf-8\n",
    "\n",
    "# 将文件保存为myModel.py\n",
    "\n",
    "' HaiZeiTech '\n",
    "\n",
    "__author__ = 'HZ'\n",
    "\n",
    "def WhatAboutTheHaiZei():\n",
    "    print \"Excellent！\""
   ]
  },
  {
   "cell_type": "markdown",
   "metadata": {},
   "source": [
    "第6行是一个字符串，表示模块的文档注释，任何模块代码的第一个字符串都被视为模块的文档注释；\n",
    "第8行使用\\_\\_author\\_\\_变量把作者写进去；"
   ]
  },
  {
   "cell_type": "code",
   "execution_count": 2,
   "metadata": {},
   "outputs": [
    {
     "name": "stdout",
     "output_type": "stream",
     "text": [
      "Excellent！\n"
     ]
    }
   ],
   "source": [
    "#!/usr/bin/evn python\n",
    "# coding=utf-8\n",
    "\n",
    "# 将文件保存为model_test.py\n",
    "import myModel\n",
    "\n",
    "myModel.WhatAboutTheHaiZei()"
   ]
  },
  {
   "cell_type": "markdown",
   "metadata": {},
   "source": [
    "### 2.2、第三方模块\n",
    "\n",
    "Python中安装第三方模块一般使用`pip`，例如安装科学计算工具Numpy等。我们推荐直接使用Anaconda，这是一个基于Python的数据处理和科学计算平台，它已经内置了许多非常有用的第三方库，我们装上Anaconda，就相当于把数十个第三方模块自动安装好了，非常简单易用。安装Anaconda可以去[清华大学镜像站](https://mirrors.tuna.tsinghua.edu.cn/help/anaconda/)"
   ]
  },
  {
   "cell_type": "markdown",
   "metadata": {},
   "source": [
    "## 3、Python中的包\n",
    "\n",
    "包是一个分层次的文件目录结构，它定义了一个由模块及子包，和子包下的子包等组成的 Python 的应用环境。\n",
    "简单来说，包就是文件夹，但该文件夹下必须存在 \\_\\_init\\_\\_.py 文件, 该文件的内容可以为空。\\_\\_int\\_\\_.py用于标识当前文件夹是一个包。\n",
    "\n",
    "**通常\\_\\_init\\_\\_.py 文件为空，但是我们还可以为它增加其他的功能。我们在导入一个包时，实际上是导入了它的\\_\\_init\\_\\_.py文件。这样我们可以在\\_\\_init\\_\\_.py文件中批量导入我们所需要的模块，而不再需要一个一个的导入。**"
   ]
  },
  {
   "cell_type": "code",
   "execution_count": 1,
   "metadata": {},
   "outputs": [
    {
     "name": "stdout",
     "output_type": "stream",
     "text": [
      "(<module 're' from '/System/Library/Frameworks/Python.framework/Versions/2.7/lib/python2.7/re.pyc'>, <module 'urllib' from '/System/Library/Frameworks/Python.framework/Versions/2.7/lib/python2.7/urllib.pyc'>, <module 'sys' (built-in)>, <module 'os' from '/System/Library/Frameworks/Python.framework/Versions/2.7/lib/python2.7/os.pyc'>)\n"
     ]
    }
   ],
   "source": [
    "import packageA\n",
    "print (packageA.re, packageA.urllib, packageA.sys, packageA.os)"
   ]
  },
  {
   "cell_type": "markdown",
   "metadata": {},
   "source": [
    "注意这里访问\\_\\_init\\_\\_.py文件中的引用文件，需要加上包名。\n",
    "\n",
    "\\_\\_init\\_\\_.py中还有一个重要的变量\\_\\_all\\_\\_。\\_\\_init\\_\\_可用于模块导入时限制，如：\n",
    "from module import \\* 此时被导入模块若定义了__all__属性，则只有__all__内指定的属性、方法、类可被导入。若没定义，则导入模块内的所有公有属性，方法和类 。"
   ]
  },
  {
   "cell_type": "code",
   "execution_count": 41,
   "metadata": {},
   "outputs": [
    {
     "name": "stdout",
     "output_type": "stream",
     "text": [
      "func() is called!\n",
      "__func() is called!\n",
      "HCZ\n"
     ]
    },
    {
     "ename": "NameError",
     "evalue": "name 'func1' is not defined",
     "output_type": "error",
     "traceback": [
      "\u001b[0;31m---------------------------------------------------------------------------\u001b[0m",
      "\u001b[0;31mNameError\u001b[0m                                 Traceback (most recent call last)",
      "\u001b[0;32m<ipython-input-41-dab07fed78e3>\u001b[0m in \u001b[0;36m<module>\u001b[0;34m()\u001b[0m\n\u001b[1;32m     24\u001b[0m \u001b[0m__func\u001b[0m\u001b[0;34m(\u001b[0m\u001b[0;34m)\u001b[0m\u001b[0;34m\u001b[0m\u001b[0m\n\u001b[1;32m     25\u001b[0m \u001b[0;32mprint\u001b[0m \u001b[0m_A\u001b[0m\u001b[0;34m(\u001b[0m\u001b[0;34m\"HCZ\"\u001b[0m\u001b[0;34m)\u001b[0m\u001b[0;34m.\u001b[0m\u001b[0mname\u001b[0m\u001b[0;34m\u001b[0m\u001b[0m\n\u001b[0;32m---> 26\u001b[0;31m \u001b[0mfunc1\u001b[0m\u001b[0;34m(\u001b[0m\u001b[0;34m)\u001b[0m\u001b[0;34m\u001b[0m\u001b[0m\n\u001b[0m",
      "\u001b[0;31mNameError\u001b[0m: name 'func1' is not defined"
     ]
    }
   ],
   "source": [
    "'''\n",
    "__init__.py文件：\n",
    "\n",
    "__all__ = ['func','__func','_A']\n",
    "\n",
    "class _A():  \n",
    "    def __init__(self,name):  \n",
    "        self.name = name  \n",
    "def func():    \n",
    "    print 'func() is called!'    \n",
    "     \n",
    "def func1():    \n",
    "    print 'func1() is called!'    \n",
    "    \n",
    "def _func():    \n",
    "    print '_func() is called!'    \n",
    "        \n",
    "def __func():    \n",
    "    print '__func() is called!'\n",
    "'''\n",
    "\n",
    "from packageB import *\n",
    "func()\n",
    "__func()\n",
    "print _A(\"HCZ\").name\n",
    "func1()"
   ]
  },
  {
   "cell_type": "markdown",
   "metadata": {},
   "source": [
    "这时就会把注册在\\_\\_init\\_\\_.py文件中\\_\\_all\\_\\_列表中的模块和包导入到当前文件中来。**可以了解到，\\_\\_init\\_\\_.py主要控制包的导入行为。**"
   ]
  },
  {
   "cell_type": "markdown",
   "metadata": {},
   "source": [
    "考虑一个在 package\\_HaiZeiTools 目录下的 Jupyter.py、Router.py、\\_\\_init\\_\\_.py 文件，test.py 为测试调用包的代码，目录结构如下：\n",
    "```\n",
    "HaiZeiTools.py\n",
    "package_HaiZeiTools\n",
    "|-- __init__.py\n",
    "|-- Jupyter.py\n",
    "|-- Router.py\n",
    "\n",
    "```"
   ]
  },
  {
   "cell_type": "markdown",
   "metadata": {},
   "source": [
    "**文件：package_HaiZeiTools/Jupyter.py**"
   ]
  },
  {
   "cell_type": "code",
   "execution_count": null,
   "metadata": {},
   "outputs": [],
   "source": [
    "#!/usr/bin/env python\n",
    "# coding=utf-8\n",
    "\n",
    "class Jupyter:\n",
    "    def __init__(self):\n",
    "        pass\n",
    "    def say(self):\n",
    "        print \"Used Jupyter!\""
   ]
  },
  {
   "cell_type": "markdown",
   "metadata": {},
   "source": [
    "**文件：package_HaiZeiTools/Router.py**"
   ]
  },
  {
   "cell_type": "code",
   "execution_count": 17,
   "metadata": {},
   "outputs": [],
   "source": [
    "#!/usr/bin/env python\n",
    "# coding=utf-8\n",
    "\n",
    "class Router:\n",
    "    def __init__(self):\n",
    "        pass\n",
    "    def say(self):\n",
    "        print \"Used Router!\""
   ]
  },
  {
   "cell_type": "markdown",
   "metadata": {},
   "source": [
    "**文件：test.py**"
   ]
  },
  {
   "cell_type": "code",
   "execution_count": 18,
   "metadata": {},
   "outputs": [
    {
     "name": "stdout",
     "output_type": "stream",
     "text": [
      "Used Jupyter!\n",
      "Used Router!\n"
     ]
    }
   ],
   "source": [
    "#!/usr/bin/env python\n",
    "# coding=utf-8\n",
    "\n",
    "# 导入包\n",
    "from package_HaiZeiTools.Jupyter import Jupyter \n",
    "from package_HaiZeiTools.Router  import Router\n",
    "\n",
    "Jupyter().say()\n",
    "Router().say()"
   ]
  },
  {
   "cell_type": "markdown",
   "metadata": {},
   "source": [
    "## 4、作业\n",
    "\n",
    "**作业1:**\n",
    " - Python中类与模块，模块与包的关系的是什么？\n",
    " \n",
    "**作业2:**\n",
    " - python中为什么要使用包？\n",
    " \n",
    "**作业3: 单词统计小项目**\n",
    "\n",
    " - 葛底斯堡的演说中单词出现的频率\n",
    "\n",
    " - 根据上面统计的频率，按照频率由高到底绘制出柱状图\n",
    "\n",
    " - 将按照上面的要求实现的功能封装到自定义模块中\n",
    "\n",
    " - 优化代码结构，将功能模块打包成文件\n",
    "\n",
    "[文本链接](https://baike.baidu.com/item/%E8%91%9B%E5%BA%95%E6%96%AF%E5%A0%A1%E6%BC%94%E8%AF%B4/9524243?fr=aladdin)，参考**新闻誊抄本**部分文字。"
   ]
  }
 ],
 "metadata": {
  "kernelspec": {
   "display_name": "Python 2",
   "language": "python",
   "name": "python2"
  },
  "language_info": {
   "codemirror_mode": {
    "name": "ipython",
    "version": 2
   },
   "file_extension": ".py",
   "mimetype": "text/x-python",
   "name": "python",
   "nbconvert_exporter": "python",
   "pygments_lexer": "ipython2",
   "version": "2.7.10"
  }
 },
 "nbformat": 4,
 "nbformat_minor": 2
}
