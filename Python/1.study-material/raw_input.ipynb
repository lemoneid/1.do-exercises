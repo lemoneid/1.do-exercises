{
 "cells": [
  {
   "cell_type": "code",
   "execution_count": 6,
   "metadata": {},
   "outputs": [
    {
     "name": "stdout",
     "output_type": "stream",
     "text": [
      "input any number : 131 123 1\n",
      "255\n"
     ]
    }
   ],
   "source": [
    "res = 0\n",
    "for x in raw_input(\"input any number : \").split() : res += int(x)\n",
    "print res"
   ]
  },
  {
   "cell_type": "code",
   "execution_count": 26,
   "metadata": {},
   "outputs": [
    {
     "ename": "SyntaxError",
     "evalue": "invalid syntax (<ipython-input-26-b1206171854c>, line 3)",
     "output_type": "error",
     "traceback": [
      "\u001b[0;36m  File \u001b[0;32m\"<ipython-input-26-b1206171854c>\"\u001b[0;36m, line \u001b[0;32m3\u001b[0m\n\u001b[0;31m    for num in str([tot = for i in range(1, 101)]) : res += int(num)\u001b[0m\n\u001b[0m                        ^\u001b[0m\n\u001b[0;31mSyntaxError\u001b[0m\u001b[0;31m:\u001b[0m invalid syntax\n"
     ]
    }
   ],
   "source": [
    "res = 0\n",
    "tot = 1\n",
    "for i in range(1, 101): tot *= i \n",
    "for num in str([]) : res += int(num)\n",
    "print res"
   ]
  },
  {
   "cell_type": "code",
   "execution_count": null,
   "metadata": {},
   "outputs": [],
   "source": [
    "import random\n",
    "list_a = [random.randint(1, 100) for x in xrange(1, 10)]\n",
    "\n",
    "for number in list_a:\n",
    "    pass # 请将完善这部分的代码\n",
    "    if (number % 2 == 0) :\n",
    "        print number\n",
    "        break\n",
    "else :\n",
    "    print \"there is no even number\""
   ]
  },
  {
   "cell_type": "code",
   "execution_count": null,
   "metadata": {},
   "outputs": [],
   "source": [
    "def is_prime(x):\n",
    "    if type(x) != type(1):\n",
    "        return False\n",
    "    for i in xrange(2, x):\n",
    "        if x % i == 0:\n",
    "            break\n",
    "    else :\n",
    "        return True\n",
    "    return False\n",
    "\n",
    "# 请在下面完善题目中的代码功能a\n",
    "while raw_input(x):\n",
    "    print \"%s\" %is_prime(int(x))\n",
    "else :\n",
    "    print \"bye bye\""
   ]
  }
 ],
 "metadata": {
  "kernelspec": {
   "display_name": "Python 2",
   "language": "python",
   "name": "python2"
  },
  "language_info": {
   "codemirror_mode": {
    "name": "ipython",
    "version": 2
   },
   "file_extension": ".py",
   "mimetype": "text/x-python",
   "name": "python",
   "nbconvert_exporter": "python",
   "pygments_lexer": "ipython2",
   "version": "2.7.18"
  }
 },
 "nbformat": 4,
 "nbformat_minor": 2
}
